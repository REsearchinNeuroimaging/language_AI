{
 "cells": [
  {
   "cell_type": "code",
   "execution_count": 1,
   "id": "319e7e2e",
   "metadata": {},
   "outputs": [],
   "source": [
    "import torch\n",
    "from torchvision import models\n",
    "import numpy as np\n",
    "import pandas as pd\n",
    "import pickle\n",
    "import os"
   ]
  },
  {
   "cell_type": "code",
   "execution_count": 2,
   "id": "8e449841",
   "metadata": {},
   "outputs": [],
   "source": [
    "# Input and output directories\n",
    "\n",
    "internal_input_dir = './internal_input_features/'\n",
    "internal_output_dir = './internal_resnet_output_features/'\n",
    "if os.path.isdir(internal_output_dir)==False:\n",
    "      os.mkdir(internal_output_dir)\n",
    "        \n",
    "        \n",
    "external_input_dir = './external_input_features/'\n",
    "external_output_dir = './external_resnet_output_features/'\n",
    "if os.path.isdir(external_output_dir)==False:\n",
    "      os.mkdir(external_output_dir)"
   ]
  },
  {
   "cell_type": "code",
   "execution_count": 3,
   "id": "fa73d77f",
   "metadata": {},
   "outputs": [],
   "source": [
    "# DataLoader\n",
    "def npy_loader(path):\n",
    "    return torch.from_numpy(np.load(path, allow_pickle=True)).float()\n",
    "\n",
    "# Model loading\n",
    "def load_model():\n",
    "    model = models.resnet50(weights=models.ResNet50_Weights.IMAGENET1K_V2)\n",
    "    for param in model.parameters():\n",
    "        param.requires_grad = False\n",
    "    return model.eval()\n",
    "\n",
    "# Object save and load\n",
    "def save_object(obj, filename):\n",
    "    try:\n",
    "        with open(filename, \"wb\") as f:\n",
    "            pickle.dump(obj, f, protocol=pickle.HIGHEST_PROTOCOL)\n",
    "    except Exception as ex:\n",
    "        print(f\"Error during pickling object (Possibly unsupported): {ex}\")\n",
    "        \n",
    "def load_object(filename):\n",
    "    try:\n",
    "        with open(filename, \"rb\") as f:\n",
    "            return pickle.load(f)\n",
    "    except Exception as ex:\n",
    "        print(f\"Error during unpickling object (Possibly unsupported): {ex}\")"
   ]
  },
  {
   "cell_type": "code",
   "execution_count": 4,
   "id": "cc19b57f",
   "metadata": {},
   "outputs": [],
   "source": [
    "# Function to process images\n",
    "def model_image_process(model, input_dir, output_dir, subjects, sessions=None):\n",
    "    for sub in subjects:\n",
    "        for ses in sessions or ['']:\n",
    "            if ses:\n",
    "                in_file = '{}{}_{}.npy'.format(input_dir,sub,ses)\n",
    "                out_file = '{}{}_{}.npy'.format(output_dir,sub,ses)\n",
    "            else:\n",
    "                in_file = '{}{}.npy'.format(input_dir,sub)\n",
    "                out_file = '{}{}.npy'.format(output_dir,sub)\n",
    "                \n",
    "            data = npy_loader(in_file)\n",
    "            inputs = torch.stack([data])\n",
    "            out = model(inputs).numpy()\n",
    "            np.save(out_file, out[0])"
   ]
  },
  {
   "cell_type": "code",
   "execution_count": 5,
   "id": "a9be7dea",
   "metadata": {},
   "outputs": [],
   "source": [
    "# Load model\n",
    "model = load_model()\n",
    "\n",
    "# Process internal dataset\n",
    "df_internal = pd.read_excel('internal_LI_indexes.xlsx').sort_values(by=['Subject'])\n",
    "model_image_process(model, internal_input_dir, internal_output_dir, df_internal['Subject'], ['ses-1', 'ses-2'])\n",
    "\n",
    "# Process external dataset\n",
    "df_external = pd.read_excel('external_LI_indexes.xlsx').sort_values(by=['Subject'])\n",
    "model_image_process(model, external_input_dir, external_output_dir, df_external['Subject'])"
   ]
  },
  {
   "cell_type": "code",
   "execution_count": null,
   "id": "2260a3ef",
   "metadata": {},
   "outputs": [],
   "source": []
  }
 ],
 "metadata": {
  "kernelspec": {
   "display_name": "Python 3 (ipykernel)",
   "language": "python",
   "name": "python3"
  },
  "language_info": {
   "codemirror_mode": {
    "name": "ipython",
    "version": 3
   },
   "file_extension": ".py",
   "mimetype": "text/x-python",
   "name": "python",
   "nbconvert_exporter": "python",
   "pygments_lexer": "ipython3",
   "version": "3.9.13"
  }
 },
 "nbformat": 4,
 "nbformat_minor": 5
}
